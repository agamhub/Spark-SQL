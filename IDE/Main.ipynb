{
 "cells": [
  {
   "cell_type": "code",
   "execution_count": 1,
   "metadata": {},
   "outputs": [
    {
     "name": "stdout",
     "output_type": "stream",
     "text": [
      "Requirement already satisfied: pyspark in d:\\repo\\spark-sql\\pyenv\\lib\\site-packages (from -r D:/Repo/Spark-SQL/requirements.txt (line 1)) (3.5.4)\n",
      "Requirement already satisfied: pandas in d:\\repo\\spark-sql\\pyenv\\lib\\site-packages (from -r D:/Repo/Spark-SQL/requirements.txt (line 2)) (2.2.3)\n",
      "Requirement already satisfied: py4j==0.10.9.7 in d:\\repo\\spark-sql\\pyenv\\lib\\site-packages (from pyspark->-r D:/Repo/Spark-SQL/requirements.txt (line 1)) (0.10.9.7)\n",
      "Requirement already satisfied: numpy>=1.26.0 in d:\\repo\\spark-sql\\pyenv\\lib\\site-packages (from pandas->-r D:/Repo/Spark-SQL/requirements.txt (line 2)) (2.2.2)\n",
      "Requirement already satisfied: python-dateutil>=2.8.2 in d:\\repo\\spark-sql\\pyenv\\lib\\site-packages (from pandas->-r D:/Repo/Spark-SQL/requirements.txt (line 2)) (2.9.0.post0)\n",
      "Requirement already satisfied: pytz>=2020.1 in d:\\repo\\spark-sql\\pyenv\\lib\\site-packages (from pandas->-r D:/Repo/Spark-SQL/requirements.txt (line 2)) (2024.2)\n",
      "Requirement already satisfied: tzdata>=2022.7 in d:\\repo\\spark-sql\\pyenv\\lib\\site-packages (from pandas->-r D:/Repo/Spark-SQL/requirements.txt (line 2)) (2025.1)\n",
      "Requirement already satisfied: six>=1.5 in d:\\repo\\spark-sql\\pyenv\\lib\\site-packages (from python-dateutil>=2.8.2->pandas->-r D:/Repo/Spark-SQL/requirements.txt (line 2)) (1.17.0)\n",
      "Note: you may need to restart the kernel to use updated packages.\n"
     ]
    }
   ],
   "source": [
    "#Install all required library based on requirements.txt file\n",
    "#add whatever library you wanted\n",
    "%pip install -U -r D:/Repo/Spark-SQL/requirements.txt"
   ]
  },
  {
   "cell_type": "code",
   "execution_count": 2,
   "metadata": {},
   "outputs": [],
   "source": [
    "import os\n",
    "\n",
    "os.environ['SPARK_HOME'] = \"C:/spark/spark-3.5.4-bin-hadoop3\"\n",
    "os.environ['JAVA_HOME'] = \"C:/Program Files/Java/jdk-11\"\n",
    "os.environ['HADOOP_HOME'] = \"C:/spark/spark-3.5.4-bin-hadoop3\""
   ]
  },
  {
   "cell_type": "code",
   "execution_count": 3,
   "metadata": {},
   "outputs": [],
   "source": [
    "# spark session and launch default SPARK UI to monitor with default port 4040\n",
    "# http://localhost:4040/jobs/\n",
    "from pyspark.sql import SparkSession\n",
    "from concurrent.futures import ThreadPoolExecutor, as_completed\n",
    "\n",
    "spark = SparkSession.builder \\\n",
    "    .master(\"local\") \\\n",
    "        .appName(\"Spark-SQL\") \\\n",
    "            .config(\"spark.executor.memory\",\"4g\") \\\n",
    "            .config(\"spark.sql.shuffle.partitions\",\"6\") \\\n",
    "            .getOrCreate()"
   ]
  },
  {
   "cell_type": "code",
   "execution_count": 4,
   "metadata": {},
   "outputs": [],
   "source": [
    "def read_and_query(file_path, table_name):\n",
    "\n",
    "    # Read the CSV file into a DataFrame\n",
    "    df = spark.read.csv(file_path, header=True, inferSchema=True, sep=\"|\") # inferschema is a function to automatically find datatype of source file itself\n",
    "\n",
    "    # Register the DataFrame as a temporary view\n",
    "    df.createOrReplaceTempView(table_name)\n",
    "    \n",
    "    # Use Spark SQL to query the DataFrame\n",
    "    result = spark.sql(f\"SELECT * FROM {table_name}\")\n",
    "    return result"
   ]
  },
  {
   "cell_type": "code",
   "execution_count": 5,
   "metadata": {},
   "outputs": [],
   "source": [
    "import pandas as pd\n",
    "\n",
    "path = \"../File/Config.csv\"\n",
    "\n",
    "#function csv to tuples [(a,a),(b,b)] here using lambda x:x for x in x\n",
    "def read_csv_as_tuples(path):\n",
    "    df = pd.read_csv(path, header=0, sep=\"|\")\n",
    "    list_of_tuples = [tuple(row) for row in df.values]\n",
    "    return list_of_tuples\n",
    "\n",
    "#function normal df for iteration using iterrows\n",
    "def read_csv(path):\n",
    "    df = pd.read_csv(path, header=0, sep=\"|\")\n",
    "    return df"
   ]
  },
  {
   "cell_type": "code",
   "execution_count": 6,
   "metadata": {},
   "outputs": [],
   "source": [
    "# read from root path by using ../\n",
    "files_and_tables = read_csv_as_tuples(path)\n",
    "\n",
    "# Use ThreadPoolExecutor to run tasks in parallel\n",
    "with ThreadPoolExecutor() as executor:\n",
    "    futures = [executor.submit(read_and_query, file, table) for file, table in files_and_tables]\n",
    "    \n",
    "    # Wait for all tasks to complete\n",
    "    for future in as_completed(futures):\n",
    "        future.result()"
   ]
  },
  {
   "cell_type": "code",
   "execution_count": 7,
   "metadata": {},
   "outputs": [
    {
     "name": "stdout",
     "output_type": "stream",
     "text": [
      "+----+----+\n",
      "|Id_A|Id_B|\n",
      "+----+----+\n",
      "|   1|   1|\n",
      "|   1|   1|\n",
      "|   1|   1|\n",
      "|   1|   1|\n",
      "|   1|   1|\n",
      "|   1|   1|\n",
      "|   1|   1|\n",
      "|   1|   1|\n",
      "|   1|   1|\n",
      "|   1|   1|\n",
      "|   1|   1|\n",
      "|   1|   1|\n",
      "|   1|   1|\n",
      "|   1|   1|\n",
      "|   1|   1|\n",
      "|   1|   1|\n",
      "|   1|   1|\n",
      "|   1|   1|\n",
      "|   1|   1|\n",
      "|   1|   1|\n",
      "|   1|   1|\n",
      "|   1|   1|\n",
      "|   1|   1|\n",
      "|   1|   1|\n",
      "|   1|   1|\n",
      "|   1|   1|\n",
      "|   1|   1|\n",
      "|   1|   1|\n",
      "|   1|   1|\n",
      "|   1|   1|\n",
      "|   1|   1|\n",
      "|   2|   2|\n",
      "|   2|   2|\n",
      "|   2|   2|\n",
      "|   2|   2|\n",
      "|   2|   2|\n",
      "|   2|   2|\n",
      "|   2|   2|\n",
      "|   2|   2|\n",
      "|   2|   2|\n",
      "|   2|   2|\n",
      "|   2|   2|\n",
      "|   2|   2|\n",
      "|   2|   2|\n",
      "|   2|   2|\n",
      "|   2|   2|\n",
      "|   2|   2|\n",
      "|   2|   2|\n",
      "|   2|   2|\n",
      "|   2|   2|\n",
      "+----+----+\n",
      "only showing top 50 rows\n",
      "\n"
     ]
    }
   ],
   "source": [
    "result = spark.sql(\"\"\"\n",
    "                   SELECT A.Id AS Id_A, B.Id AS Id_B\n",
    "                    FROM DQC A\n",
    "                    LEFT JOIN DQC2 B ON A.Id = B.Id\n",
    "                    \"\"\")\n",
    "    \n",
    "# Show the result|\n",
    "result.show(n=50)"
   ]
  },
  {
   "cell_type": "code",
   "execution_count": 8,
   "metadata": {},
   "outputs": [
    {
     "data": {
      "text/html": [
       "\n",
       "            <div>\n",
       "                <p><b>SparkSession - in-memory</b></p>\n",
       "                \n",
       "        <div>\n",
       "            <p><b>SparkContext</b></p>\n",
       "\n",
       "            <p><a href=\"http://host.docker.internal:4040\">Spark UI</a></p>\n",
       "\n",
       "            <dl>\n",
       "              <dt>Version</dt>\n",
       "                <dd><code>v3.5.4</code></dd>\n",
       "              <dt>Master</dt>\n",
       "                <dd><code>local</code></dd>\n",
       "              <dt>AppName</dt>\n",
       "                <dd><code>Spark-SQL</code></dd>\n",
       "            </dl>\n",
       "        </div>\n",
       "        \n",
       "            </div>\n",
       "        "
      ],
      "text/plain": [
       "<pyspark.sql.session.SparkSession at 0x140f070da90>"
      ]
     },
     "execution_count": 8,
     "metadata": {},
     "output_type": "execute_result"
    }
   ],
   "source": [
    "spark"
   ]
  },
  {
   "cell_type": "code",
   "execution_count": 9,
   "metadata": {},
   "outputs": [
    {
     "name": "stdout",
     "output_type": "stream",
     "text": [
      "+---+-------+\n",
      "| id|   name|\n",
      "+---+-------+\n",
      "|  1|   Agam|\n",
      "|  2| Lorita|\n",
      "|  3|   Safa|\n",
      "|  4|Zakaria|\n",
      "+---+-------+\n",
      "\n"
     ]
    }
   ],
   "source": [
    "# Read the CSV file into a DataFrame\n",
    "df = spark.read.json(\"../File/Json/Sample.json\", multiLine=True) # inferschema is a function to automatically find datatype of source file itself\n",
    "df.show()"
   ]
  },
  {
   "cell_type": "code",
   "execution_count": 10,
   "metadata": {},
   "outputs": [],
   "source": [
    "parquet_file_path = \"../File/Parquet\"\n",
    "df.write.mode(\"overwrite\").parquet(parquet_file_path)"
   ]
  },
  {
   "cell_type": "code",
   "execution_count": 12,
   "metadata": {},
   "outputs": [
    {
     "name": "stdout",
     "output_type": "stream",
     "text": [
      "+---+-------+\n",
      "| id|   name|\n",
      "+---+-------+\n",
      "|  1|   Agam|\n",
      "|  2| Lorita|\n",
      "|  3|   Safa|\n",
      "|  4|Zakaria|\n",
      "+---+-------+\n",
      "\n"
     ]
    }
   ],
   "source": [
    "df = spark.read.parquet(parquet_file_path)\n",
    "df.show()"
   ]
  }
 ],
 "metadata": {
  "kernelspec": {
   "display_name": "pyenv",
   "language": "python",
   "name": "python3"
  },
  "language_info": {
   "codemirror_mode": {
    "name": "ipython",
    "version": 3
   },
   "file_extension": ".py",
   "mimetype": "text/x-python",
   "name": "python",
   "nbconvert_exporter": "python",
   "pygments_lexer": "ipython3",
   "version": "3.13.1"
  }
 },
 "nbformat": 4,
 "nbformat_minor": 2
}
